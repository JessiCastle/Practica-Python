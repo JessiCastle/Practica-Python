{
 "cells": [
  {
   "cell_type": "code",
   "execution_count": 6,
   "metadata": {},
   "outputs": [
    {
     "name": "stdout",
     "output_type": "stream",
     "text": [
      "el area del campo es: 4416\n"
     ]
    }
   ],
   "source": [
    "length= 92\n",
    "width= 48\n",
    "area= length * width\n",
    "\n",
    "print('el area del campo es:', area)"
   ]
  },
  {
   "cell_type": "code",
   "execution_count": 7,
   "metadata": {},
   "outputs": [
    {
     "name": "stdout",
     "output_type": "stream",
     "text": [
      "tiene q devolver 6.59\n"
     ]
    }
   ],
   "source": [
    "cantidad_potato= int(input('Cuantas bolsitas compro?:'))\n",
    "precio_potato= 1.49\n",
    "cobrar= precio_potato * cantidad_potato\n",
    "\n",
    "pago= int(input('con cuanto pago:'))\n",
    "\n",
    "devolver= pago - cobrar\n",
    "\n",
    "print('tiene q devolver', devolver)"
   ]
  },
  {
   "cell_type": "code",
   "execution_count": 5,
   "metadata": {},
   "outputs": [
    {
     "name": "stdout",
     "output_type": "stream",
     "text": [
      "5 , 10\n"
     ]
    }
   ],
   "source": [
    "num1= int(input('ingrese el primer nummero:'))\n",
    "num2= int(input('ingrese un segundo numero:'))\n",
    "\n",
    "if num1 > num2:\n",
    "    print(num2, ',', num1)\n",
    "else:\n",
    "    print(num2, num1)\n",
    "    "
   ]
  },
  {
   "cell_type": "code",
   "execution_count": 6,
   "metadata": {},
   "outputs": [
    {
     "name": "stdout",
     "output_type": "stream",
     "text": [
      "Numero alto\n"
     ]
    }
   ],
   "source": [
    "numero= int(input('ingrese un numero por de bajo de 20:'))\n",
    "\n",
    "if numero >= 20:\n",
    "    print('Numero alto')\n",
    "else:\n",
    "    print('thank you')"
   ]
  },
  {
   "cell_type": "code",
   "execution_count": 13,
   "metadata": {},
   "outputs": [
    {
     "name": "stdout",
     "output_type": "stream",
     "text": [
      "a mi tambien me gusta\n"
     ]
    }
   ],
   "source": [
    "color= input('cual es tu color favorito?')\n",
    "\n",
    "if color == 'rojo' or color =='ROJO' or color=='Rojo': \n",
    "    print('a mi tambien me gusta')\n",
    "else:\n",
    "    print('me agrada mas el rojo')"
   ]
  },
  {
   "cell_type": "code",
   "execution_count": 4,
   "metadata": {},
   "outputs": [
    {
     "name": "stdout",
     "output_type": "stream",
     "text": [
      "disfrut tu dia\n"
     ]
    }
   ],
   "source": [
    "pregunta_uno= input('esta lloviendo?')\n",
    "pregunta_uno= str.lower(pregunta_uno)\n",
    "\n",
    "if pregunta_uno == 'si':\n",
    "    viento= input('hay mucho viento para paraguas?')\n",
    "    viento= str.lower(viento)\n",
    "    if viento == 'si':\n",
    "        print('hace mucho viento para paraguas')\n",
    "    else:\n",
    "        print('toma un paragua')\n",
    "else:\n",
    "    print('disfruta de tu dia')"
   ]
  },
  {
   "cell_type": "code",
   "execution_count": 9,
   "metadata": {},
   "outputs": [
    {
     "name": "stdout",
     "output_type": "stream",
     "text": [
      "error message\n"
     ]
    }
   ],
   "source": [
    "numeros= int(input('ingrese un numero del 1 al 3'))\n",
    "\n",
    "if numeros == 1:\n",
    "    print('thank you')\n",
    "elif numeros == 2:\n",
    "    print('well done')\n",
    "elif numeros ==3:\n",
    "    print('correct')\n",
    "else:\n",
    "    print('error message')"
   ]
  },
  {
   "cell_type": "code",
   "execution_count": 2,
   "metadata": {},
   "outputs": [
    {
     "name": "stdout",
     "output_type": "stream",
     "text": [
      "3\n"
     ]
    }
   ],
   "source": [
    "nombre= input('ingrese su nombre:')\n",
    "nombres= len(nombre)\n",
    "print(nombres)"
   ]
  },
  {
   "cell_type": "code",
   "execution_count": 4,
   "metadata": {},
   "outputs": [
    {
     "name": "stdout",
     "output_type": "stream",
     "text": [
      "esta es la longitud 21\n",
      "rani\n"
     ]
    }
   ],
   "source": [
    "cancion= input('ingrese una cancion:')\n",
    "canciones= len(cancion)\n",
    "print('esta es la longitud', canciones)\n",
    "start= int(input('numero inicial'))\n",
    "end= int(input('numero final'))\n",
    "parte= cancion[start:end]\n",
    "print(parte)"
   ]
  },
  {
   "cell_type": "code",
   "execution_count": 7,
   "metadata": {},
   "outputs": [
    {
     "name": "stdout",
     "output_type": "stream",
     "text": [
      "KIWICASTILLO\n"
     ]
    }
   ],
   "source": [
    "tu_nombre= input('ingrese su nombre')\n",
    "\n",
    "if len(tu_nombre) < 5:\n",
    "    apellido= input('ingrese su apellido')\n",
    "    nombre_completo= tu_nombre + apellido\n",
    "    print(nombre_completo.upper())\n",
    "else:\n",
    "    print(tu_nombre.lower())"
   ]
  },
  {
   "cell_type": "code",
   "execution_count": 16,
   "metadata": {},
   "outputs": [
    {
     "name": "stdout",
     "output_type": "stream",
     "text": [
      "alaay\n"
     ]
    }
   ],
   "source": [
    "palabra= input('ingrese una palabra')\n",
    "firts= palabra[0]\n",
    "lengt= len(palabra)\n",
    "rest= palabra[1:lengt]\n",
    "\n",
    "if firts != 'a' and firts!= 'e' and firts != 'i' and firts != 'o' and firts != 'u':\n",
    "    nueva_palabra= rest + firts + 'way'\n",
    "else:\n",
    "    nueva_palabra= palabra+ 'ay'\n",
    "print(nueva_palabra.lower())"
   ]
  },
  {
   "cell_type": "code",
   "execution_count": 20,
   "metadata": {},
   "outputs": [
    {
     "name": "stdout",
     "output_type": "stream",
     "text": [
      "24.49\n"
     ]
    }
   ],
   "source": [
    "import math\n",
    "in_numero= int(input('ingrese un numero mayor a 500'))\n",
    "raiz= math.sqrt(in_numero)\n",
    "print(round(raiz, 2))"
   ]
  },
  {
   "cell_type": "code",
   "execution_count": 21,
   "metadata": {},
   "outputs": [
    {
     "name": "stdout",
     "output_type": "stream",
     "text": [
      "3.14159\n"
     ]
    }
   ],
   "source": [
    "import math\n",
    "print(round(math.pi, 5))"
   ]
  },
  {
   "cell_type": "code",
   "execution_count": 23,
   "metadata": {},
   "outputs": [
    {
     "name": "stdout",
     "output_type": "stream",
     "text": [
      "28.274333882308138\n"
     ]
    }
   ],
   "source": [
    "import math\n",
    "radio= int(input('ingrese el radio del circulo'))\n",
    "area= math.pi * (radio **2)\n",
    "print(area)"
   ]
  },
  {
   "cell_type": "code",
   "execution_count": 26,
   "metadata": {},
   "outputs": [
    {
     "name": "stdout",
     "output_type": "stream",
     "text": [
      "113.097\n"
     ]
    }
   ],
   "source": [
    "radio= int(input('ingrese el radio'))\n",
    "profundidad= int(input('ingrese la profundidad'))\n",
    "area= math.pi*(radio**2)\n",
    "circular= area * profundidad\n",
    "print(round(circular, 3))\n",
    "\n"
   ]
  },
  {
   "cell_type": "code",
   "execution_count": 28,
   "metadata": {},
   "outputs": [
    {
     "name": "stdout",
     "output_type": "stream",
     "text": [
      "15 dividido por 3 es 5.0 y da el siguiente resto 0\n"
     ]
    }
   ],
   "source": [
    "primer_numero= int(input('ingrese un numero'))\n",
    "segundo_numero= int(input('segundo numero'))\n",
    "division= primer_numero / segundo_numero\n",
    "resto= primer_numero % segundo_numero\n",
    "print(primer_numero, 'dividido por', segundo_numero, 'es', division, 'y da el siguiente resto', resto)"
   ]
  },
  {
   "cell_type": "markdown",
   "metadata": {},
   "source": [
    "                                                        For Loop"
   ]
  },
  {
   "cell_type": "code",
   "execution_count": 2,
   "metadata": {},
   "outputs": [
    {
     "name": "stdout",
     "output_type": "stream",
     "text": [
      "jessica\n",
      "jessica\n",
      "jessica\n"
     ]
    }
   ],
   "source": [
    "#Ask the user to enter their name and then display their name three times. \n",
    "\n",
    "nombre= input('ingrese su nombre:')\n",
    "for i in range (0,3):\n",
    "    print(nombre) \n"
   ]
  },
  {
   "cell_type": "code",
   "execution_count": 3,
   "metadata": {},
   "outputs": [
    {
     "name": "stdout",
     "output_type": "stream",
     "text": [
      "Jessica\n",
      "Jessica\n",
      "Jessica\n",
      "Jessica\n"
     ]
    }
   ],
   "source": [
    "#Alter program 035 so that it will ask the user to enter their name and a number and then display their name that \n",
    "#number of times. \n",
    "\n",
    "nombre= input('ingrese su nombre:')\n",
    "veces= int(input('ingrese las veces a repetir'))\n",
    "for i in range (0, veces):\n",
    "    print(nombre) "
   ]
  },
  {
   "cell_type": "code",
   "execution_count": 10,
   "metadata": {},
   "outputs": [
    {
     "name": "stdout",
     "output_type": "stream",
     "text": [
      "K\n",
      "i\n",
      "w\n",
      "i\n"
     ]
    }
   ],
   "source": [
    "#Ask the user to enter their name and display each letter in\n",
    "#their name on a separate line. \n",
    "\n",
    "nombre= input('ingrese su nombre:')\n",
    "for i in nombre:\n",
    "    print(i)\n",
    "\n"
   ]
  },
  {
   "cell_type": "code",
   "execution_count": 3,
   "metadata": {},
   "outputs": [
    {
     "name": "stdout",
     "output_type": "stream",
     "text": [
      "j\n",
      "e\n",
      "s\n",
      "s\n",
      "i\n",
      "c\n",
      "a\n",
      "j\n",
      "e\n",
      "s\n",
      "s\n",
      "i\n",
      "c\n",
      "a\n"
     ]
    }
   ],
   "source": [
    "#Change program 037 to also ask for a number. Displaytheir name (oneletter at a time oneach line) andrepeat this for the\n",
    "#number of times they entered. \n",
    "nombre= input('ingrese su nombre:')\n",
    "veces= int(input('Ingrese las vecese'))\n",
    "for x in range(0, veces):\n",
    "    for i in nombre:\n",
    "        print(i)"
   ]
  },
  {
   "cell_type": "code",
   "execution_count": 10,
   "metadata": {},
   "outputs": [
    {
     "name": "stdout",
     "output_type": "stream",
     "text": [
      "50\n",
      "49\n",
      "48\n",
      "47\n",
      "46\n",
      "45\n"
     ]
    }
   ],
   "source": [
    "#Ask for a number below 50 and then count down from 50 to that number, making sure you show the number\n",
    "#they entered in the output.\n",
    "\n",
    "numero= int(input('ingrese un numero menor a 50:'))\n",
    "for i in range(50, numero -1, -1):\n",
    "    print(i)"
   ]
  },
  {
   "cell_type": "markdown",
   "metadata": {},
   "source": [
    "'Ask the user to enter their\n",
    "name and a number. If the\n",
    "number is less than 10, then\n",
    "display their name that\n",
    "number of times; otherwise\n",
    "display the message “Too\n",
    "high” three times'"
   ]
  },
  {
   "cell_type": "code",
   "execution_count": 20,
   "metadata": {},
   "outputs": [
    {
     "name": "stdout",
     "output_type": "stream",
     "text": [
      "to high\n",
      "to high\n",
      "to high\n"
     ]
    }
   ],
   "source": [
    "nombre= input('ingrese su nombre:')\n",
    "veces= int(input('Ingrese las vecese'))\n",
    "if veces <= 10:\n",
    "    for i in range(0, veces):\n",
    "        print(nombre)\n",
    "else:\n",
    "    for i in range(0, 3):\n",
    "        print('to high')"
   ]
  },
  {
   "cell_type": "markdown",
   "metadata": {},
   "source": [
    "Set a variable called total to 0. Ask the user to enter\n",
    "five numbers and after each input ask them if they\n",
    "want that number included. If they do, then add the\n",
    "number to the total. If they do not want it included,\n",
    "don’t add it to the total. After they have entered all five\n",
    "numbers, display the total. "
   ]
  },
  {
   "cell_type": "code",
   "execution_count": 25,
   "metadata": {},
   "outputs": [
    {
     "name": "stdout",
     "output_type": "stream",
     "text": [
      "10\n"
     ]
    }
   ],
   "source": [
    "total = 0\n",
    "for i in range(0,5):\n",
    "    numero= int(input('ingrese un numero'))\n",
    "    pregunta= input('quiere que se incluya en el total?')\n",
    "    if pregunta == 's':\n",
    "        total= total+ numero\n",
    "print(total)"
   ]
  },
  {
   "cell_type": "markdown",
   "metadata": {},
   "source": [
    "Ask which direction the user wants to count (up or down). If they select up, then ask\n",
    "them for the top number and then count from 1 to that number. If they select down, ask\n",
    "them to enter a number below 20 and then count down from 20 to that number. If they\n",
    "entered something other than up or down, display the message “I don’t understand”"
   ]
  },
  {
   "cell_type": "code",
   "execution_count": 30,
   "metadata": {},
   "outputs": [
    {
     "name": "stdout",
     "output_type": "stream",
     "text": [
      "no entiendo\n"
     ]
    }
   ],
   "source": [
    "pregunta= input('hacia donde quiere contar?')\n",
    "\n",
    "if pregunta == 'arriba':\n",
    "    numero= int(input('ingrese un numero'))\n",
    "    for i in range(1, numero+1):\n",
    "        print(i)\n",
    "elif pregunta == 'abajo':\n",
    "    numero= int(input('ingrese un numero menor a 20'))\n",
    "    for i in range(20, numero -1, -1):\n",
    "        print(i)\n",
    "else:\n",
    "    print('no entiendo')\n",
    "\n"
   ]
  },
  {
   "cell_type": "markdown",
   "metadata": {},
   "source": [
    "Ask how many people the user wants to invite to a party. If they enter a number below\n",
    "10, ask for the names and after each name display “[name] has been invited”. If they\n",
    "enter a number which is 10 or higher, display the message “Too many people”"
   ]
  },
  {
   "cell_type": "code",
   "execution_count": 40,
   "metadata": {},
   "outputs": [
    {
     "name": "stdout",
     "output_type": "stream",
     "text": [
      "Jess estas invitado a la fiesta\n",
      "Kiwi estas invitado a la fiesta\n"
     ]
    }
   ],
   "source": [
    "cantidad_invitado = int(input('a cuantas personas quieres invitar?'))\n",
    "if cantidad_invitado <10:\n",
    "    for i in range(0,cantidad_invitado):\n",
    "        invitado_nombre= input('cual es el nombre del invitado?')\n",
    "        invitado_nombre= invitado_nombre + ' '+ 'estas invitado a la fiesta'\n",
    "        print(invitado_nombre)\n",
    "else:\n",
    "    print('Demasiada gente')\n",
    "\n"
   ]
  },
  {
   "cell_type": "markdown",
   "metadata": {},
   "source": [
    "Set the total to 0 to start with. While the total is 50 or less, ask\n",
    "the user to input a number. Add that number to the total and\n",
    "print the message “The total is… [total]”. Stop the loop when\n",
    "the total is over 50"
   ]
  },
  {
   "cell_type": "code",
   "execution_count": 17,
   "metadata": {},
   "outputs": [
    {
     "name": "stdout",
     "output_type": "stream",
     "text": [
      "The total is 60\n"
     ]
    }
   ],
   "source": [
    "total = 0\n",
    "while total < 50:\n",
    " num = int(input('Enter a number:'))\n",
    " total = total + num\n",
    "print('The total is', total)"
   ]
  },
  {
   "cell_type": "markdown",
   "metadata": {},
   "source": [
    "Ask the user to enter\n",
    "a number. Keep\n",
    "asking until they enter\n",
    "a value over 5 and\n",
    "then display the\n",
    "message “The last\n",
    "number you entered\n",
    "was a [number]” and\n",
    "stop the program."
   ]
  },
  {
   "cell_type": "code",
   "execution_count": 22,
   "metadata": {},
   "outputs": [
    {
     "name": "stdout",
     "output_type": "stream",
     "text": [
      "el ultimo numero fue 6\n"
     ]
    }
   ],
   "source": [
    "numero= 0\n",
    "while numero <= 5:\n",
    "    numero=int(input('ingrese un numero'))\n",
    "print('el ultimo numero fue', numero)"
   ]
  },
  {
   "cell_type": "markdown",
   "metadata": {},
   "source": [
    "Ask the user to enter a\n",
    "number and then enter\n",
    "another number. Add these\n",
    "two numbers together and\n",
    "then ask if they want to add\n",
    "another number. If they\n",
    "enter “y\", ask them to enter\n",
    "another number and keep\n",
    "adding numbers until they\n",
    "do not answer “y”. Once the\n",
    "loop has stopped, display\n",
    "the total."
   ]
  },
  {
   "cell_type": "code",
   "execution_count": 46,
   "metadata": {},
   "outputs": [
    {
     "name": "stdout",
     "output_type": "stream",
     "text": [
      "la suma de todo es 60\n"
     ]
    }
   ],
   "source": [
    "numero1= int(input('ingrese un numero:'))\n",
    "numero2= int(input('ingrese otro numero:'))\n",
    "resultado= numero1 + numero2\n",
    "pregunta= input('quiere agregar mas? s/n')\n",
    "\n",
    "while pregunta == 's':\n",
    "    numero= int(input('ingrese otro numero:'))\n",
    "    resultado2= resultado + numero\n",
    "    pregunta= input('quiere agregar mas? s/n')\n",
    "print('la suma de todo es', resultado2)\n"
   ]
  },
  {
   "cell_type": "markdown",
   "metadata": {},
   "source": [
    "Ask for the name of somebody the user wants to invite\n",
    "to a party. After this, display the message “[name] has\n",
    "now been invited” and add 1 to the count. Then ask if\n",
    "they want to invite somebody else. Keep repeating this\n",
    "until they no longer want to invite anyone else to the\n",
    "party and then display how many people they have\n",
    "coming to the party. "
   ]
  },
  {
   "cell_type": "code",
   "execution_count": 42,
   "metadata": {},
   "outputs": [
    {
     "name": "stdout",
     "output_type": "stream",
     "text": [
      "Has invitado a  Jess\n",
      "Has invitado a  Kiwi\n",
      "Invitaste a 2 personas\n"
     ]
    }
   ],
   "source": [
    "contador= 0\n",
    "ask= 's'\n",
    "while ask == 's':\n",
    "    nombre=input('ingrese una persona a intivar')\n",
    "    print('Has invitado a ', nombre)\n",
    "    contador = contador + 1\n",
    "    ask= input('desea invitar a alguien mas? s/n')\n",
    "print('Invitaste a', contador, 'personas')\n",
    "\n",
    "\n",
    "\n"
   ]
  },
  {
   "cell_type": "markdown",
   "metadata": {},
   "source": [
    "Create a variable called\n",
    "compnum and set the value\n",
    "to 50. Ask the user to enter a\n",
    "number. While their guess\n",
    "is not the same as the\n",
    "compnum value, tell them if\n",
    "their guess is too low or too\n",
    "high and ask them to have\n",
    "another guess. If they enter\n",
    "the same value as\n",
    "compnum, display the\n",
    "message “Well done, you\n",
    "took [count] attempts”. "
   ]
  },
  {
   "cell_type": "code",
   "execution_count": 52,
   "metadata": {},
   "outputs": [
    {
     "name": "stdout",
     "output_type": "stream",
     "text": [
      "es muy bajo\n",
      "es muy bajo\n",
      "es muy bajo\n",
      "es muy bajo\n"
     ]
    },
    {
     "ename": "ValueError",
     "evalue": "invalid literal for int() with base 10: ''",
     "output_type": "error",
     "traceback": [
      "\u001b[1;31m---------------------------------------------------------------------------\u001b[0m",
      "\u001b[1;31mValueError\u001b[0m                                Traceback (most recent call last)",
      "\u001b[1;32mc:\\excel.phyton\\Clase1\\ejercicio.number\\eje.number.ipynb Cell 40\u001b[0m line \u001b[0;36m1\n\u001b[0;32m      <a href='vscode-notebook-cell:/c%3A/excel.phyton/Clase1/ejercicio.number/eje.number.ipynb#X56sZmlsZQ%3D%3D?line=7'>8</a>\u001b[0m         \u001b[39mprint\u001b[39m(\u001b[39m'\u001b[39m\u001b[39mes muy alto\u001b[39m\u001b[39m'\u001b[39m)\n\u001b[0;32m      <a href='vscode-notebook-cell:/c%3A/excel.phyton/Clase1/ejercicio.number/eje.number.ipynb#X56sZmlsZQ%3D%3D?line=8'>9</a>\u001b[0m     contador\u001b[39m=\u001b[39m contador \u001b[39m+\u001b[39m \u001b[39m1\u001b[39m\n\u001b[1;32m---> <a href='vscode-notebook-cell:/c%3A/excel.phyton/Clase1/ejercicio.number/eje.number.ipynb#X56sZmlsZQ%3D%3D?line=9'>10</a>\u001b[0m     num\u001b[39m=\u001b[39m \u001b[39mint\u001b[39;49m(\u001b[39minput\u001b[39;49m(\u001b[39m'\u001b[39;49m\u001b[39mingrese otro numero\u001b[39;49m\u001b[39m'\u001b[39;49m))\n\u001b[0;32m     <a href='vscode-notebook-cell:/c%3A/excel.phyton/Clase1/ejercicio.number/eje.number.ipynb#X56sZmlsZQ%3D%3D?line=10'>11</a>\u001b[0m \u001b[39mprint\u001b[39m(\u001b[39m'\u001b[39m\u001b[39mWell done, you took\u001b[39m\u001b[39m'\u001b[39m, contador, \u001b[39m'\u001b[39m\u001b[39mattempts\u001b[39m\u001b[39m'\u001b[39m)\n",
      "\u001b[1;31mValueError\u001b[0m: invalid literal for int() with base 10: ''"
     ]
    }
   ],
   "source": []
  },
  {
   "cell_type": "code",
   "execution_count": 51,
   "metadata": {},
   "outputs": [
    {
     "name": "stdout",
     "output_type": "stream",
     "text": [
      "Too low! Try again.\n",
      "Too low! Try again.\n",
      "Well done! You took 3 attempts.\n"
     ]
    }
   ],
   "source": [
    "compnum = 50\n",
    "count = 0\n",
    "\n",
    "while True:\n",
    "    user_guess = int(input(\"Enter a number: \"))\n",
    "    count += 1\n",
    "\n",
    "    if user_guess < compnum:\n",
    "        print(\"Too low! Try again.\")\n",
    "    elif user_guess > compnum:\n",
    "        print(\"Too high! Try again.\")\n",
    "    else:\n",
    "        print(f\"Well done! You took {count} attempts.\")\n",
    "        break"
   ]
  },
  {
   "cell_type": "code",
   "execution_count": 1,
   "metadata": {},
   "outputs": [
    {
     "name": "stdout",
     "output_type": "stream",
     "text": [
      "La edad correspondiente al ID 2 es: 30\n"
     ]
    }
   ],
   "source": [
    "import pandas as pd\n",
    "\n",
    "# Crear un DataFrame de ejemplo\n",
    "df = pd.DataFrame({\n",
    "    'ID': [1, 2, 3, 4],\n",
    "    'Nombre': ['Juan', 'María', 'Pedro', 'Ana'],\n",
    "    'Edad': [25, 30, 22, 28]\n",
    "})\n",
    "\n",
    "# Valor que deseas buscar en la columna 'ID'\n",
    "valor_a_buscar = 2\n",
    "\n",
    "# Realizar la búsqueda con loc y mostrar el resultado\n",
    "resultado = df.loc[df['ID'] == valor_a_buscar, 'Edad']\n",
    "\n",
    "# Verificar si se encontró un resultado\n",
    "if not resultado.empty:\n",
    "    print(f\"La edad correspondiente al ID {valor_a_buscar} es: {resultado.values[0]}\")\n",
    "else:\n",
    "    print(f\"No se encontró el ID {valor_a_buscar} en la columna 'ID'.\")\n"
   ]
  },
  {
   "cell_type": "code",
   "execution_count": 2,
   "metadata": {},
   "outputs": [
    {
     "name": "stdout",
     "output_type": "stream",
     "text": [
      "   ID Nombre  Edad\n",
      "0   1   Juan    25\n",
      "1   2  María    30\n",
      "2   3  Pedro    22\n",
      "3   4    Ana    28\n"
     ]
    }
   ],
   "source": [
    "import pandas as pd\n",
    "\n",
    "# DataFrame principal\n",
    "df_principal = pd.DataFrame({\n",
    "    'ID': [1, 2, 3, 4],\n",
    "    'Nombre': ['Juan', 'María', 'Pedro', 'Ana']\n",
    "})\n",
    "\n",
    "# DataFrame con datos a buscar\n",
    "df_buscar = pd.DataFrame({\n",
    "    'ID': [1, 2, 3, 4],\n",
    "    'Edad': [25, 30, 22, 28]\n",
    "})\n",
    "\n",
    "# Utilizar merge para agregar la columna 'Edad' a df_principal basándose en la columna 'ID'\n",
    "df_resultado = pd.merge(df_principal, df_buscar, on='ID')\n",
    "\n",
    "# Mostrar el resultado\n",
    "print(df_resultado)\n"
   ]
  }
 ],
 "metadata": {
  "kernelspec": {
   "display_name": "Python 3",
   "language": "python",
   "name": "python3"
  },
  "language_info": {
   "codemirror_mode": {
    "name": "ipython",
    "version": 3
   },
   "file_extension": ".py",
   "mimetype": "text/x-python",
   "name": "python",
   "nbconvert_exporter": "python",
   "pygments_lexer": "ipython3",
   "version": "3.11.0"
  }
 },
 "nbformat": 4,
 "nbformat_minor": 2
}
