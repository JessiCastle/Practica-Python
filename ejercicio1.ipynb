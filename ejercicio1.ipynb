{
 "cells": [
  {
   "cell_type": "markdown",
   "metadata": {},
   "source": [
    "49.Create a variable called\n",
    "compnum and set the value\n",
    "to 50. Ask the user to enter a\n",
    "number. While their guess\n",
    "is not the same as the\n",
    "compnum value, tell them if\n",
    "their guess is too low or too\n",
    "high and ask them to have\n",
    "another guess. If they enter\n",
    "the same value as\n",
    "compnum, display the\n",
    "message “Well done, you\n",
    "took [count] attempts”. "
   ]
  },
  {
   "cell_type": "code",
   "execution_count": 19,
   "metadata": {},
   "outputs": [
    {
     "name": "stdout",
     "output_type": "stream",
     "text": [
      "to low\n",
      "to high\n",
      "Well done, you took 3 attempts\n"
     ]
    }
   ],
   "source": [
    "compnum = 50\n",
    "contador= 0\n",
    "\n",
    "while True:\n",
    "    ask= int(input('numero:'))\n",
    "    contador += 1\n",
    "    if ask < compnum:\n",
    "        print('too low')\n",
    "    elif ask == compnum:\n",
    "        print('Well done, you took', contador, 'attempts')\n",
    "        break\n",
    "    else:\n",
    "        print('to high')"
   ]
  },
  {
   "cell_type": "markdown",
   "metadata": {},
   "source": [
    "Ask the user to enter a number between\n",
    "10 and 20. If they enter a value under 10,\n",
    "display the message “Too low” and ask\n",
    "them to try again. If they enter a value\n",
    "above 20, display the message “Too high”\n",
    "and ask them to try again. Keep repeating\n",
    "this until they enter a value that is\n",
    "between 10 and 20 and then display the\n",
    "message 'Thank you'"
   ]
  },
  {
   "cell_type": "code",
   "execution_count": 38,
   "metadata": {},
   "outputs": [
    {
     "name": "stdout",
     "output_type": "stream",
     "text": [
      "to low\n",
      "to high\n",
      "thank you\n"
     ]
    }
   ],
   "source": [
    "while True:\n",
    "    num= int(input('Ask the user to enter a number between 10 and 20'))\n",
    "    if 10 <= num <= 20:\n",
    "        print('thank you')\n",
    "        break\n",
    "    elif num < 10:\n",
    "        print('to low')\n",
    "    else:\n",
    "        print('to high')"
   ]
  },
  {
   "cell_type": "markdown",
   "metadata": {},
   "source": [
    "Using the song “10 green bottles”, display the lines “There are [num] green bottles\n",
    "hanging on the wall, [num] green bottles hanging on the wall, and if 1 green bottle\n",
    "should accidentally fall”. Then ask the question “how many green bottles will be\n",
    "hanging on the wall?” If the user answers correctly, display the message “There will be\n",
    "[num] green bottles hanging on the wall”. If they answer incorrectly, display the\n",
    "message “No, try again” until they get it right. When the number of green bottles gets\n",
    "down to 0, display the message “There are no more green bottles hanging on the wall”"
   ]
  },
  {
   "cell_type": "code",
   "execution_count": null,
   "metadata": {},
   "outputs": [],
   "source": [
    "bottles = 10  # Número inicial de botellas\n",
    "\n",
    "while bottles > 0:\n",
    "    print(f\"There are {bottles} green bottles hanging on the wall, {bottles} green bottles hanging on the wall, and if 1 green bottle should accidentally fall.\")\n",
    "    \n",
    "    # Pregunta al usuario cuántas botellas quedan\n",
    "    guess = int(input(\"How many green bottles will be hanging on the wall? \"))\n",
    "    bottles -= 1  # Reduzca el número de botellas\n",
    "    if guess == bottles:\n",
    "        print(f\"There will be {bottles} green bottles hanging on the wall.\")\n",
    "    else:\n",
    "        while guess != bottles:\n",
    "            guess= int(input('No, try again'))\n",
    "# Cuando el número de botellas llega a 0\n",
    "print(\"There are no more green bottles hanging on the wall.\")"
   ]
  },
  {
   "cell_type": "markdown",
   "metadata": {},
   "source": [
    "FOOR LOOP"
   ]
  },
  {
   "cell_type": "markdown",
   "metadata": {},
   "source": [
    "1. Ask the user to enter\n",
    "their name and then\n",
    "display their name\n",
    "three times"
   ]
  },
  {
   "cell_type": "code",
   "execution_count": 2,
   "metadata": {},
   "outputs": [
    {
     "name": "stdout",
     "output_type": "stream",
     "text": [
      "Kiwi\n",
      "Kiwi\n",
      "Kiwi\n"
     ]
    }
   ],
   "source": [
    "nombre= input('ingrese su nombre')\n",
    "for i in range(0,3):\n",
    "    print(nombre)"
   ]
  },
  {
   "cell_type": "markdown",
   "metadata": {},
   "source": [
    "2. Alter program 035 so that it will ask the user to enter their\n",
    "name and a number and then display their name that\n",
    "number of times. "
   ]
  },
  {
   "cell_type": "code",
   "execution_count": 4,
   "metadata": {},
   "outputs": [
    {
     "name": "stdout",
     "output_type": "stream",
     "text": [
      "Kiwi\n",
      "Kiwi\n",
      "Kiwi\n",
      "Kiwi\n"
     ]
    }
   ],
   "source": [
    "nombre= input('ingrese su nombre')\n",
    "veces= int(input('ingrese las veces'))\n",
    "\n",
    "for i in range(0, veces):\n",
    "    print(nombre)"
   ]
  },
  {
   "cell_type": "markdown",
   "metadata": {},
   "source": [
    "3. Ask the user to enter their name and display each letter in\n",
    "their name on a separate line. "
   ]
  },
  {
   "cell_type": "code",
   "execution_count": 7,
   "metadata": {},
   "outputs": [
    {
     "name": "stdout",
     "output_type": "stream",
     "text": [
      "j\n",
      "e\n",
      "s\n",
      "s\n"
     ]
    }
   ],
   "source": [
    "nombre= input('ingrese su nombre')\n",
    "for i in nombre:\n",
    "    print(i)"
   ]
  },
  {
   "cell_type": "markdown",
   "metadata": {},
   "source": [
    "4. Change program\n",
    "037 to also ask for a\n",
    "number. Display\n",
    "their name (one\n",
    "letter at a time on\n",
    "each line) and\n",
    "repeat this for the\n",
    "number of times\n",
    "they entered. "
   ]
  },
  {
   "cell_type": "code",
   "execution_count": 13,
   "metadata": {},
   "outputs": [
    {
     "name": "stdout",
     "output_type": "stream",
     "text": [
      "k\n",
      "k\n",
      "k\n",
      "k\n",
      "i\n",
      "i\n",
      "i\n",
      "i\n",
      "w\n",
      "w\n",
      "w\n",
      "w\n",
      "i\n",
      "i\n",
      "i\n",
      "i\n"
     ]
    }
   ],
   "source": [
    "nombre= input('ingrese su nombre')\n",
    "veces= int(input('ingrese las veces'))\n",
    "\n",
    "for x in nombre:\n",
    "    for i in range(0,veces):\n",
    "        print(x)"
   ]
  },
  {
   "cell_type": "markdown",
   "metadata": {},
   "source": [
    "5. Ask the user to enter a number between 1\n",
    "and 12 and then display the times table for\n",
    "that number."
   ]
  },
  {
   "cell_type": "code",
   "execution_count": 14,
   "metadata": {},
   "outputs": [
    {
     "name": "stdout",
     "output_type": "stream",
     "text": [
      "1 x 5 = 5\n",
      "2 x 5 = 10\n",
      "3 x 5 = 15\n",
      "4 x 5 = 20\n",
      "5 x 5 = 25\n",
      "6 x 5 = 30\n",
      "7 x 5 = 35\n",
      "8 x 5 = 40\n",
      "9 x 5 = 45\n",
      "10 x 5 = 50\n",
      "11 x 5 = 55\n",
      "12 x 5 = 60\n"
     ]
    }
   ],
   "source": [
    "num= int(input('ingrese un numero'))\n",
    "for i in range(1,13):\n",
    "    answer= i * num\n",
    "    print(i,'x',num, '=', answer)"
   ]
  },
  {
   "cell_type": "markdown",
   "metadata": {},
   "source": [
    "6. Ask for a number below 50 and then count down from\n",
    "50 to that number, making sure you show the number\n",
    "they entered in the output. "
   ]
  },
  {
   "cell_type": "code",
   "execution_count": 15,
   "metadata": {},
   "outputs": [
    {
     "name": "stdout",
     "output_type": "stream",
     "text": [
      "50\n",
      "49\n",
      "48\n",
      "47\n",
      "46\n",
      "45\n",
      "44\n",
      "43\n",
      "42\n",
      "41\n"
     ]
    }
   ],
   "source": [
    "num= int(input('ingrese numero menor a 50:'))\n",
    "for i in range(50,num,-1):\n",
    "    print(i)\n",
    "    "
   ]
  },
  {
   "cell_type": "markdown",
   "metadata": {},
   "source": [
    "7. Ask the user to enter their\n",
    "name and a number. If the\n",
    "number is less than 10, then\n",
    "display their name that\n",
    "number of times; otherwise\n",
    "display the message “Too\n",
    "high” three times. "
   ]
  },
  {
   "cell_type": "code",
   "execution_count": 29,
   "metadata": {},
   "outputs": [
    {
     "name": "stdout",
     "output_type": "stream",
     "text": [
      "Kiwi\n",
      "Kiwi\n",
      "Kiwi\n"
     ]
    }
   ],
   "source": [
    "name= input('ingrese su nombre:')\n",
    "num= int(input('ingrese un numero'))\n",
    "\n",
    "if num <= 10:\n",
    "    for i in range(0,num):\n",
    "        print(name)\n",
    "else:\n",
    "    for i in range(0,3):\n",
    "        print('Too high')"
   ]
  },
  {
   "cell_type": "markdown",
   "metadata": {},
   "source": [
    "8. Set a variable called total to 0. Ask the user to enter\n",
    "five numbers and after each input ask them if they\n",
    "want that number included. If they do, then add the\n",
    "number to the total. If they do not want it included,\n",
    "don’t add it to the total. After they have entered all five\n",
    "numbers, display the total."
   ]
  },
  {
   "cell_type": "code",
   "execution_count": 31,
   "metadata": {},
   "outputs": [
    {
     "name": "stdout",
     "output_type": "stream",
     "text": [
      "5\n",
      "10\n",
      "15\n",
      "20\n",
      "25\n"
     ]
    }
   ],
   "source": [
    "total= 0\n",
    "for i in range(0,5):\n",
    "    ask1= int(input('ingrese numeros:'))\n",
    "    ask2= input('Quiero que ese número esté incluido s/n')\n",
    "    if ask2 =='s':\n",
    "        total = total + ask1\n",
    "print(total)\n"
   ]
  },
  {
   "cell_type": "markdown",
   "metadata": {},
   "source": [
    "9.Ask which direction the user wants to count (up or down). If they select up, then ask\n",
    "them for the top number and then count from 1 to that number. If they select down, ask\n",
    "them to enter a number below 20 and then count down from 20 to that number. If they\n",
    "entered something other than up or down, display the message “I don’t understand”. \n"
   ]
  },
  {
   "cell_type": "code",
   "execution_count": 43,
   "metadata": {},
   "outputs": [
    {
     "name": "stdout",
     "output_type": "stream",
     "text": [
      "20\n",
      "19\n",
      "18\n",
      "17\n",
      "16\n",
      "15\n"
     ]
    }
   ],
   "source": [
    "ask= input('which direction the user wants to count: up/down')\n",
    "if ask == 'up':\n",
    "    num= int\n",
    "    (input('ingresa un numero:'))\n",
    "    for i in range(1,num+1):\n",
    "        print(i)\n",
    "elif ask == 'down':\n",
    "    num= int(input('ingrese un numero menor a 20'))\n",
    "    for i in range(20,num-1,-1):\n",
    "        print(i)\n",
    "else:\n",
    "    print('no entiendo')"
   ]
  },
  {
   "cell_type": "markdown",
   "metadata": {},
   "source": [
    " Ask how many people the user wants to invite to a party. If they enter a number below\n",
    "10, ask for the names and after each name display “[name] has been invited”. If they\n",
    "enter a number which is 10 or higher, display the message “Too many people”. 10."
   ]
  },
  {
   "cell_type": "code",
   "execution_count": 5,
   "metadata": {},
   "outputs": [
    {
     "name": "stdout",
     "output_type": "stream",
     "text": [
      "kiwi has been invited\n",
      "jess has been invited\n",
      "kisi has been invited\n",
      "mfdgd has been invited\n",
      "gd has been invited\n"
     ]
    }
   ],
   "source": [
    "ask= int(input('how many people the user wants to invite to a party'))\n",
    "if ask <= 10:\n",
    "    for i in range(0, ask):\n",
    "        name= input('nombres')\n",
    "        print(name,'has been invited')\n",
    "else:\n",
    "    print('Too many people')"
   ]
  },
  {
   "cell_type": "code",
   "execution_count": null,
   "metadata": {},
   "outputs": [],
   "source": [
    "count= 0\n",
    "ask= 'y'\n",
    "while ask == 'y':\n",
    "    name= input('a quien quieres invitar')\n",
    "    print(name, 'has sido invitadop')\n",
    "    count= count+ 1\n",
    "    ask1=input('quieres invitar a alguien mas y/n')\n",
    "print('invitaste a ', count, 'personas')\n"
   ]
  }
 ],
 "metadata": {
  "kernelspec": {
   "display_name": "Python 3",
   "language": "python",
   "name": "python3"
  },
  "language_info": {
   "codemirror_mode": {
    "name": "ipython",
    "version": 3
   },
   "file_extension": ".py",
   "mimetype": "text/x-python",
   "name": "python",
   "nbconvert_exporter": "python",
   "pygments_lexer": "ipython3",
   "version": "3.12.0"
  }
 },
 "nbformat": 4,
 "nbformat_minor": 2
}
